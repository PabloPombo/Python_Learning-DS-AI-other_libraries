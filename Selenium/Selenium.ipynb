{
 "cells": [
  {
   "cell_type": "markdown",
   "id": "b62b3e46",
   "metadata": {},
   "source": [
    "# Selenium"
   ]
  },
  {
   "cell_type": "code",
   "execution_count": 1,
   "id": "ec94a60d",
   "metadata": {},
   "outputs": [],
   "source": [
    "#pip install selenium"
   ]
  },
  {
   "cell_type": "code",
   "execution_count": 2,
   "id": "2e3ba564",
   "metadata": {},
   "outputs": [],
   "source": [
    "from selenium import webdriver"
   ]
  },
  {
   "cell_type": "code",
   "execution_count": 6,
   "id": "b94f0e95",
   "metadata": {},
   "outputs": [],
   "source": [
    "#driver = webdriver.Chrome(executable_path=r\"C:\\Users\\Pablo\\Desktop\\chromedriver.exe\")\n",
    "driver=webdriver.Chrome()\n",
    "driver.get(\"https://www.amazon.com.mx/s?k=carteras&__mk_es_MX=%C3%85M%C3%85%C5%BD%C3%95%C3%91&ref=nb_sb_noss_2\")\n",
    "driver.close()"
   ]
  },
  {
   "cell_type": "code",
   "execution_count": null,
   "id": "cd7f4b3c",
   "metadata": {},
   "outputs": [],
   "source": []
  },
  {
   "cell_type": "code",
   "execution_count": 1,
   "id": "f1a1b87c",
   "metadata": {},
   "outputs": [],
   "source": []
  },
  {
   "cell_type": "code",
   "execution_count": 31,
   "id": "5c52b1a1",
   "metadata": {},
   "outputs": [],
   "source": [
    "from selenium.webdriver.common.keys import Keys\n",
    "#from selenium.webdriver.common.by import By\n",
    "from selenium import webdriver\n",
    "import time"
   ]
  },
  {
   "cell_type": "code",
   "execution_count": null,
   "id": "ffb6b056",
   "metadata": {},
   "outputs": [],
   "source": []
  },
  {
   "cell_type": "code",
   "execution_count": null,
   "id": "0e8f0fb1",
   "metadata": {},
   "outputs": [],
   "source": [
    "driver=webdriver.Chrome()\n",
    "driver.get(\"https://www.microsoft.com/es-es/microsoft-365/outlook/email-and-calendar-software-microsoft-outlook?deeplink=%2fowa%2f&sdf=0\")\n",
    "\n",
    "\n",
    "correo = driver.find_element(\"id\",\"mectrl_headerPicture\")\n",
    "#correo = driver.find_element(By.ID ,\"mectrl_headerPicture\")      tambien se puede de esta forma\n",
    "correo.click() #hacer click en elemento\n",
    "\n",
    "usuario = driver.find_element(\"name\",\"loginfmt\")\n",
    "usuario.send_keys(\"pablo-pombo@hotmail.com\")\n",
    "usuario.send_keys(Keys.ENTER)\n",
    "\n",
    "contraseña = driver.find_element(\"id\",\"i0118\")\n",
    "contraseña.send_keys(\"contraseña erronea\")\n",
    "contraseña.send_keys(Keys.ENTER)"
   ]
  },
  {
   "cell_type": "code",
   "execution_count": null,
   "id": "4315dbc2",
   "metadata": {},
   "outputs": [],
   "source": []
  },
  {
   "cell_type": "code",
   "execution_count": 21,
   "id": "1eef66cc",
   "metadata": {},
   "outputs": [
    {
     "name": "stderr",
     "output_type": "stream",
     "text": [
      ".C:\\Users\\Pablo\\anaconda3\\lib\\unittest\\suite.py:84: ResourceWarning: unclosed file <_io.BufferedWriter name='nul'>\n",
      "  return self.run(*args, **kwds)\n",
      "ResourceWarning: Enable tracemalloc to get the object allocation traceback\n",
      "C:\\Users\\Pablo\\anaconda3\\lib\\unittest\\suite.py:84: ResourceWarning: unclosed <socket.socket fd=960, family=AddressFamily.AF_INET6, type=SocketKind.SOCK_STREAM, proto=0, laddr=('::1', 50950, 0, 0), raddr=('::1', 50948, 0, 0)>\n",
      "  return self.run(*args, **kwds)\n",
      "ResourceWarning: Enable tracemalloc to get the object allocation traceback\n",
      "\n",
      "----------------------------------------------------------------------\n",
      "Ran 1 test in 13.504s\n",
      "\n",
      "OK\n"
     ]
    }
   ],
   "source": [
    "#Por XPATH y con UNITTEST\n",
    "\n",
    "import unittest\n",
    "from selenium import webdriver\n",
    "import time\n",
    "from selenium.webdriver.common.keys import Keys\n",
    "\n",
    "\n",
    "class unsando_unittest(unittest.TestCase):\n",
    "    \n",
    "    def setUp(self):\n",
    "        self.driver = webdriver.Chrome()\n",
    "        \n",
    "    def test_buscar(self):\n",
    "        driver = self.driver\n",
    "        driver.get(\"https://www.google.com.mx/?hl=es\") \n",
    "        self.assertIn(\"Google\", driver.title)\n",
    "        \n",
    "        #elemento = driver.find_element(\"id\",\"APjFqb\")\n",
    "        elemento = driver.find_element(\"xpath\",\"//*[@id='APjFqb']\")\n",
    "        elemento.send_keys(\"selenium\")\n",
    "        elemento.send_keys(Keys.RETURN)\n",
    "        time.sleep(5)\n",
    "        \n",
    "        assert \"No se encuentra el elemento:\" not in driver.page_source\n",
    "        \n",
    "    def tearDown(self):\n",
    "        self.driver.close()\n",
    "\n",
    "        \n",
    "if __name__ == '__main__':\n",
    "    unittest.main(argv=['first-arg-is-ignored'], exit=False)        "
   ]
  },
  {
   "cell_type": "code",
   "execution_count": null,
   "id": "d3379263",
   "metadata": {},
   "outputs": [],
   "source": []
  },
  {
   "cell_type": "code",
   "execution_count": null,
   "id": "da930024",
   "metadata": {},
   "outputs": [],
   "source": []
  },
  {
   "cell_type": "code",
   "execution_count": 1,
   "id": "7402f71a",
   "metadata": {},
   "outputs": [],
   "source": [
    "import unittest\n",
    "from selenium import webdriver\n",
    "from selenium.webdriver.common.keys import Keys\n",
    "import time "
   ]
  },
  {
   "cell_type": "code",
   "execution_count": 4,
   "id": "4fe8d62d",
   "metadata": {},
   "outputs": [
    {
     "data": {
      "text/plain": [
       "'4.13.0'"
      ]
     },
     "execution_count": 4,
     "metadata": {},
     "output_type": "execute_result"
    }
   ],
   "source": [
    "import selenium\n",
    "selenium.__version__"
   ]
  },
  {
   "cell_type": "code",
   "execution_count": null,
   "id": "4e461482",
   "metadata": {},
   "outputs": [],
   "source": [
    "import datetime\n",
    "\n",
    "# Obtén la fecha y hora actual\n",
    "fecha_hora_actual = datetime.datetime.now()\n",
    "\n",
    "# Imprime la fecha y hora actual en un formato legible\n",
    "print(\"Fecha y hora actual:\", fecha_hora_actual)\n",
    "\n",
    "\n",
    "fecha_hora_formateada = fecha_hora_actual.strftime(\"%Y-%m-%d %H:%M:%S\")\n",
    "\n",
    "print(\"Fecha y hora formateada:\", fecha_hora_formateada)\n",
    "\n",
    "fecha_hora_formateada.split()"
   ]
  },
  {
   "cell_type": "code",
   "execution_count": null,
   "id": "f7ca955b",
   "metadata": {},
   "outputs": [],
   "source": []
  },
  {
   "cell_type": "code",
   "execution_count": null,
   "id": "18494021",
   "metadata": {},
   "outputs": [],
   "source": []
  },
  {
   "cell_type": "code",
   "execution_count": 12,
   "id": "e6604c1c",
   "metadata": {},
   "outputs": [
    {
     "name": "stderr",
     "output_type": "stream",
     "text": [
      ".C:\\Users\\Pablo\\anaconda3\\lib\\unittest\\suite.py:84: ResourceWarning: unclosed file <_io.BufferedWriter name='nul'>\n",
      "  return self.run(*args, **kwds)\n",
      "ResourceWarning: Enable tracemalloc to get the object allocation traceback\n",
      "C:\\Users\\Pablo\\anaconda3\\lib\\unittest\\suite.py:84: ResourceWarning: unclosed <socket.socket fd=1872, family=AddressFamily.AF_INET6, type=SocketKind.SOCK_STREAM, proto=0, laddr=('::1', 55103, 0, 0), raddr=('::1', 55101, 0, 0)>\n",
      "  return self.run(*args, **kwds)\n",
      "ResourceWarning: Enable tracemalloc to get the object allocation traceback\n",
      "\n",
      "----------------------------------------------------------------------\n",
      "Ran 1 test in 136.662s\n",
      "\n",
      "OK\n"
     ]
    }
   ],
   "source": [
    "#Abrir pestaña nueva en navegador moverte de una a otra\n",
    "#navegar en una pestaña, regresar al navegador pasado\n",
    "\n",
    "import unittest\n",
    "from selenium import webdriver\n",
    "from selenium.webdriver.common.keys import Keys\n",
    "import time \n",
    "\n",
    "\n",
    "class usando_unittest (unittest.TestCase):\n",
    "    \n",
    "    def setUp (self):\n",
    "        self.driver = webdriver.Chrome()\n",
    "        \n",
    "    def test_cambia_ventana (self):\n",
    "        driver = self.driver\n",
    "        driver.get(\"https://www.google.com.mx/?hl=es\")\n",
    "        time.sleep(2)\n",
    "        driver.execute_script(\"window.open('');\")\n",
    "        time.sleep(2)\n",
    "        driver.switch_to.window(driver.window_handles[1])\n",
    "        driver.get(\"https://www.amazon.com.mx/s?k=carteras&__mk_es_MX=%C3%85M%C3%85%C5%BD%C3%95%C3%91&ref=nb_sb_noss_2\")\n",
    "        time.sleep(2)\n",
    "        driver.switch_to.window(driver.window_handles[0])\n",
    "        time.sleep(2)\n",
    "        \n",
    "        driver.get(\"https://www.gmail.com\")\n",
    "        time.sleep(1)\n",
    "        driver.get(\"https://www.youtube.com\")\n",
    "        time.sleep(1)\n",
    "        driver.back()\n",
    "        time.sleep(1)\n",
    "        driver.forward()\n",
    "        time.sleep(1)\n",
    "        \n",
    "    def tearDown(self):\n",
    "        self.driver.close()\n",
    "        \n",
    "if __name__ == '__main__':\n",
    "    unittest.main(argv=['first-arg-is-ignored'], exit=False)  "
   ]
  },
  {
   "cell_type": "code",
   "execution_count": null,
   "id": "a0acd0ac",
   "metadata": {},
   "outputs": [],
   "source": []
  },
  {
   "cell_type": "code",
   "execution_count": null,
   "id": "03ded124",
   "metadata": {},
   "outputs": [],
   "source": []
  },
  {
   "cell_type": "code",
   "execution_count": 1,
   "id": "162d68b2",
   "metadata": {},
   "outputs": [
    {
     "name": "stderr",
     "output_type": "stream",
     "text": [
      ".C:\\Users\\Pablo\\anaconda3\\lib\\unittest\\suite.py:84: ResourceWarning: unclosed file <_io.BufferedWriter name='nul'>\n",
      "  return self.run(*args, **kwds)\n",
      "ResourceWarning: Enable tracemalloc to get the object allocation traceback\n",
      "\n",
      "----------------------------------------------------------------------\n",
      "Ran 1 test in 7.687s\n",
      "\n",
      "OK\n"
     ]
    }
   ],
   "source": [
    "#Esperas hasta que algo que selecciones de la pagina se haya cargado explicit wait y el implicit wait\n",
    "\n",
    "import unittest\n",
    "from selenium import webdriver\n",
    "from selenium.webdriver.common.by import By\n",
    "from selenium.webdriver.support.ui import WebDriverWait\n",
    "from selenium.webdriver.support import expected_conditions as EC\n",
    "\n",
    "class usando_unittest (unittest.TestCase):\n",
    "    \n",
    "    def setUp (self):\n",
    "        self.driver = webdriver.Chrome()\n",
    "        \n",
    "    def test_usando_explicit_wait (self):\n",
    "        driver = self.driver\n",
    "        driver.implicitly_wait(5) # rango de espera, hasta que encuentre algo, si lo encuentra antes se sigue\n",
    "        driver.get(\"https://www.google.com.mx/?hl=es\")\n",
    "        \n",
    "        try:\n",
    "            element = WebDriverWait(driver, 10).until(\n",
    "            EC.presence_of_element_located((By.NAME,\"q\"))) #Espera y has 10 intentos hasta que se cargue la barra de busqueda que tiene nombre \"q\"\n",
    "        \n",
    "            # (EC.element_to_be_clickable((By.XPATH, \"//label[@for='RESULT_RadioButton-7_0']\"))).click()   ejemplo para algo que se puede hacer click y ejecutarlo \n",
    "        \n",
    "        finally: \n",
    "            driver.quit()\n",
    "            \n",
    "if __name__ == '__main__':\n",
    "    unittest.main(argv=['first-arg-is-ignored'], exit=False) "
   ]
  },
  {
   "cell_type": "code",
   "execution_count": 22,
   "id": "e0e5d84c",
   "metadata": {},
   "outputs": [],
   "source": []
  },
  {
   "cell_type": "code",
   "execution_count": 1,
   "id": "65acb565",
   "metadata": {},
   "outputs": [],
   "source": [
    "#pip install opencv-python"
   ]
  },
  {
   "cell_type": "code",
   "execution_count": 2,
   "id": "031e4537",
   "metadata": {},
   "outputs": [],
   "source": [
    "import unittest\n",
    "from selenium import webdriver\n",
    "from selenium.webdriver.common.by import By\n",
    "from selenium.webdriver.support.ui import WebDriverWait\n",
    "from selenium.webdriver.support import expected_conditions as EC\n",
    "import cv2\n",
    "\n",
    "class usando_unittest (unittest.TestCase):\n",
    "    \n",
    "    def setUp (self):\n",
    "        self.driver = webdriver.Chrome()\n",
    "        \n",
    "    def usando_opencv (self):\n",
    "        driver = self.driver\n",
    "        driver.implicitly_wait(5) # rango de espera, hasta que encuentre algo, si lo encuentra antes se sigue\n",
    "        driver.get(\"https://www.google.com.mx/?hl=es\")\n",
    "        driver.save_screenshot('img2')\n",
    "        \n",
    "    "
   ]
  }
 ],
 "metadata": {
  "kernelspec": {
   "display_name": "Python 3 (ipykernel)",
   "language": "python",
   "name": "python3"
  },
  "language_info": {
   "codemirror_mode": {
    "name": "ipython",
    "version": 3
   },
   "file_extension": ".py",
   "mimetype": "text/x-python",
   "name": "python",
   "nbconvert_exporter": "python",
   "pygments_lexer": "ipython3",
   "version": "3.10.9"
  }
 },
 "nbformat": 4,
 "nbformat_minor": 5
}
