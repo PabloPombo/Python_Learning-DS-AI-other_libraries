{
 "cells": [
  {
   "cell_type": "markdown",
   "metadata": {},
   "source": [
    "# Linear Regression "
   ]
  },
  {
   "cell_type": "code",
   "execution_count": 2,
   "metadata": {},
   "outputs": [],
   "source": [
    "\n",
    "def Example_one_feature():\n",
    "   #Example proposing theta0 => 1 , theta1 => 2/3, \"x0 is always 1\" the function will be(y=1x0 + 2/3x)\n",
    "    x = np.array([[5],[3],[0],[4]])\n",
    "    y = np.array([[4], [4], [1], [3]])\n",
    "    theta = np.array([[1],[2/3]]) \n",
    "    \n",
    "    return x,y,theta\n",
    "\n",
    "def Example_multy_features():\n",
    "    #Example proposing theta0 => 0.1 , theta1 => 0.2, theta2 => 0.3, theta3 => 0.4, \"x0 is always 1\", the function will be(y=0.1 + 0.2x1 +0.3x2 +0.4x3)\n",
    "    random.seed(42)\n",
    "\n",
    "    x = np.random.randint(10,size=(20,3))\n",
    "    y = np.random.randint(10,size=(20,1))\n",
    "    theta = np.array([[0.1], [0.2], [0.3], [0.4]])\n",
    "    \n",
    "    return x, y, theta\n",
    "    "
   ]
  },
  {
   "cell_type": "markdown",
   "metadata": {},
   "source": [
    "# Cost Function"
   ]
  },
  {
   "cell_type": "code",
   "execution_count": 14,
   "metadata": {},
   "outputs": [
    {
     "data": {
      "text/plain": [
       "[<matplotlib.lines.Line2D at 0x1f4bdddc6a0>]"
      ]
     },
     "execution_count": 14,
     "metadata": {},
     "output_type": "execute_result"
    },
    {
     "data": {
      "image/png": "[encoded data removed]",
      "text/plain": [
       "<Figure size 432x288 with 1 Axes>"
      ]
     },
     "metadata": {
      "needs_background": "light"
     },
     "output_type": "display_data"
    }
   ],
   "source": [
    "import numpy as np\n",
    "import pandas as pd\n",
    "from matplotlib import pyplot as plt\n",
    "import random\n",
    "\n",
    "#CostFunction => Compute cost for linear regression\n",
    "def CostFunction (x, y, theta): \n",
    "    m = len(x) #the number of values\n",
    "    one = np.ones([m,1]) \n",
    "    x = np.concatenate((one,x),axis=1) #puts a column of ones in x\n",
    "    \n",
    "    predictions = x@theta\n",
    "    sqerrors = (predictions - y)**2\n",
    "    J = (1/(2*m)) * sum(sqerrors) #the cost function\n",
    "    \n",
    "    return (J)\n",
    "    \n",
    "x, y, theta = Example_one_feature()\n",
    "J = CostFunction(x,y,theta)\n",
    "\n",
    "plt.scatter(x,y)\n",
    "plt.plot(x,(1+2/3*x))"
   ]
  },
  {
   "cell_type": "code",
   "execution_count": 5,
   "metadata": {},
   "outputs": [
    {
     "data": {
      "text/plain": [
       "array([[-0.845, -3.99 , -1.68 , -3.125]])"
      ]
     },
     "execution_count": 5,
     "metadata": {},
     "output_type": "execute_result"
    }
   ],
   "source": [
    "#CostFunctionMulti => Compute cost for linear regression with multiple variables\n",
    "\n",
    "def CostFunctionMulti(x, y, theta):\n",
    "    m = len(x) #the number of values\n",
    "    one = np.ones([m,1]) #a vector of ones\n",
    "    x = np.concatenate((one,x),axis=1) #puts a column of ones in x\n",
    "    \n",
    "    predictions =  x@theta\n",
    "    errors = (predictions - y).T@x\n",
    "    J = 1/(m) * errors\n",
    "    \n",
    "    return (J)\n",
    "\n",
    "x, y, theta = Example_multy_features()\n",
    "\n",
    "J = CostFunctionMulti(x, y, theta)\n",
    "J"
   ]
  },
  {
   "cell_type": "markdown",
   "metadata": {},
   "source": [
    "# Normal Equation"
   ]
  },
  {
   "cell_type": "code",
   "execution_count": 7,
   "metadata": {},
   "outputs": [
    {
     "name": "stdout",
     "output_type": "stream",
     "text": [
      "[[1.28571429]\n",
      " [0.57142857]]\n",
      "[[ 4.68271278]\n",
      " [-0.25023844]\n",
      " [-0.21698508]\n",
      " [ 0.22859195]]\n"
     ]
    },
    {
     "data": {
      "image/png": "[encoded data removed]",
      "text/plain": [
       "<Figure size 432x288 with 1 Axes>"
      ]
     },
     "metadata": {
      "needs_background": "light"
     },
     "output_type": "display_data"
    }
   ],
   "source": [
    "# NormalEq => Computes the closed-form solution to linear regression\n",
    "import numpy as np\n",
    "from matplotlib import pyplot as plt\n",
    "import random\n",
    "import pandas as pd\n",
    "\n",
    "def NormalEq (x, y):\n",
    "    m,c = np.shape(x)\n",
    "    m = len(x) #the number of values\n",
    "    one = np.ones([m,1]) #a vector of ones\n",
    "    x = np.concatenate((one,x),axis=1) #puts a column of ones in x\n",
    "    \n",
    "    theta = np.zeros([c,1]) #an array with zeros for theta\n",
    "    theta = (np.linalg.inv(x.T@x))@x.T@y\n",
    "\n",
    "    return theta\n",
    "\n",
    "#One Feature\n",
    "x, y, theta = Example_one_feature()\n",
    "theta = NormalEq(x,y) #the best thetas to create a function \n",
    "print(theta)\n",
    "\n",
    "plt.scatter(x,y)\n",
    "plt.plot(x,(theta[0]+theta[1]*x))\n",
    "\n",
    "#Example with multiple features\n",
    "x, y, theta = Example_multy_features()\n",
    "theta = NormalEq(x,y) #the best thetas to create a function \n",
    "print(theta)"
   ]
  },
  {
   "cell_type": "markdown",
   "metadata": {},
   "source": [
    "# Regularization Normal Ecuation "
   ]
  },
  {
   "cell_type": "code",
   "execution_count": 8,
   "metadata": {},
   "outputs": [
    {
     "name": "stdout",
     "output_type": "stream",
     "text": [
      "[[1.29787234]\n",
      " [0.56737589]]\n"
     ]
    },
    {
     "data": {
      "text/plain": [
       "[<matplotlib.lines.Line2D at 0x1f4bde0fbb0>]"
      ]
     },
     "execution_count": 8,
     "metadata": {},
     "output_type": "execute_result"
    },
    {
     "data": {
      "image/png": "[encoded data removed]",
      "text/plain": [
       "<Figure size 432x288 with 1 Axes>"
      ]
     },
     "metadata": {
      "needs_background": "light"
     },
     "output_type": "display_data"
    }
   ],
   "source": [
    "def NormalEq_Reg (x, y, Lambda):\n",
    "    m,c = np.shape(x) #m => values , c => features\n",
    "    one = np.ones([m,1]) #a vector of ones\n",
    "    x = np.concatenate((one,x),axis=1) #puts a column of ones in x\n",
    "    \n",
    "    I = np.eye(c+1) #Matriz Idenditad \n",
    "    I[0] = np.zeros(c+1) #Matriz identidad con primera fila en ceros \n",
    "    \n",
    "    theta = np.zeros([c,1]) #an array with zeros for theta\n",
    "    theta = (np.linalg.inv(x.T@x + Lambda*I))@x.T@y\n",
    "\n",
    "    return theta\n",
    "\n",
    "\n",
    "\n",
    "\n",
    "#Example with multiple features\n",
    "x, y, theta = Example_multy_features()\n",
    "theta = NormalEq_Reg(x, y, 0.1) #the beast thetas to create a function\n",
    "\n",
    "#Example with only one feature\n",
    "x, y, theta = Example_one_feature()\n",
    "theta = NormalEq_Reg(x,y,0.1) #the best thetas to create a function \n",
    "print(theta)\n",
    "\n",
    "plt.scatter(x,y)\n",
    "plt.plot(x,(theta[0]+theta[1]*x))"
   ]
  },
  {
   "cell_type": "markdown",
   "metadata": {},
   "source": [
    "# Gradient Decent "
   ]
  },
  {
   "cell_type": "code",
   "execution_count": 21,
   "metadata": {},
   "outputs": [
    {
     "name": "stdout",
     "output_type": "stream",
     "text": [
      "[[1.0627135 ]\n",
      " [0.62610577]] [0.19027778 0.18931736 0.18871996 0.18818649 0.1876843  0.18720867\n",
      " 0.1867579  0.18633066 0.18592571 0.1855419 ]\n",
      "[[ -90467.9434894 ]\n",
      " [-557298.15670648]\n",
      " [-525528.7829097 ]\n",
      " [-461787.08087245]] [[-5.68200000e-01  5.92500000e-02  4.56000000e-01  1.08140000e+00]\n",
      " [-1.25660725e+00 -4.01645925e+00 -3.54955525e+00 -2.92045500e+00]\n",
      " [ 4.18879270e+00  2.95805642e+01  2.80347032e+01  2.46745011e+01]\n",
      " [-3.77863202e+01 -2.28988674e+02 -2.15851489e+02 -1.89678773e+02]\n",
      " [ 2.86492574e+02  1.76859058e+03  1.66782068e+03  1.46550879e+03]\n",
      " [-2.21812917e+03 -1.36602308e+04 -1.28814815e+04 -1.13190970e+04]\n",
      " [ 1.71272826e+04  1.05509943e+05  9.94952475e+04  8.74273591e+04]\n",
      " [-1.32293931e+05 -8.14943877e+05 -7.68487042e+05 -6.75276581e+05]\n",
      " [ 1.02181483e+06  6.29451363e+06  5.93568759e+06  5.21574272e+06]\n",
      " [-7.89236092e+06 -4.86179488e+07 -4.58464263e+07 -4.02856723e+07]]\n"
     ]
    },
    {
     "data": {
      "image/png": "[encoded data removed]",
      "text/plain": [
       "<Figure size 432x288 with 1 Axes>"
      ]
     },
     "metadata": {
      "needs_background": "light"
     },
     "output_type": "display_data"
    }
   ],
   "source": [
    "#GradientDescent => Performs gradient descent to learn theta\n",
    "# theta0 = theta0 - alpha*(J)\n",
    "\n",
    "def GradientDescent(x, y, theta, alpha, iterations):\n",
    "    \n",
    "    if len(theta) <=  2: #If theta has 2 or less variables \n",
    "        J_history = np.zeros(iterations) #create a variable showing the cost function\n",
    "        \n",
    "        for i in range(iterations):\n",
    "            J1 = CostFunctionMulti(x, y, theta) #do the cost function\n",
    "            theta = theta - (alpha*J1).T #then multiplied it by the step and change the value of theta \n",
    "        \n",
    "            J_history[i] = CostFunction(x, y, theta) #show the cost function \n",
    "        \n",
    "    else: #if theta has two or more variables (features)\n",
    "        J_history = np.zeros([iterations,len(theta)])\n",
    "    \n",
    "        for i in range(iterations):\n",
    "            J1 = CostFunctionMulti(x, y, theta)\n",
    "            theta = theta - (alpha*J1).T\n",
    "        \n",
    "            J_history[i] = CostFunctionMulti(x, y, theta)\n",
    "            \n",
    "    return (theta,J_history)\n",
    "\n",
    "\n",
    "\n",
    "\n",
    "#Example with only one feature\n",
    "x, y, theta = Example_one_feature()\n",
    "alpha = 0.1\n",
    "iterations = 10\n",
    "\n",
    "theta,J = GradientDescent(x, y, theta, alpha, iterations)\n",
    "print(theta, J)\n",
    "\n",
    "plt.scatter(x,y)\n",
    "plt.plot(x,(theta[0]+theta[1]*x))\n",
    "\n",
    "\n",
    "\n",
    "\n",
    "#Example with multiple features\n",
    "x, y, theta = Example_multy_features()\n",
    "\n",
    "theta,J = GradientDescent(x, y, theta, alpha, iterations)\n",
    "print(theta, J)"
   ]
  },
  {
   "cell_type": "markdown",
   "metadata": {},
   "source": [
    "# Regularization Gradient Decent"
   ]
  },
  {
   "cell_type": "code",
   "execution_count": 20,
   "metadata": {},
   "outputs": [
    {
     "data": {
      "text/plain": [
       "array([[ -1911784.40509049],\n",
       "       [ -8495798.3611595 ],\n",
       "       [-11180757.53354345],\n",
       "       [ -9931813.74083887]])"
      ]
     },
     "execution_count": 20,
     "metadata": {},
     "output_type": "execute_result"
    },
    {
     "data": {
      "image/png": "[encoded data removed]",
      "text/plain": [
       "<Figure size 432x288 with 1 Axes>"
      ]
     },
     "metadata": {
      "needs_background": "light"
     },
     "output_type": "display_data"
    }
   ],
   "source": [
    "def GradientDescent_Reg(x, y, theta, alpha, iterations):\n",
    "    \n",
    "    if len(theta) <=  2: #If theta has 2 or less variables \n",
    "        J_history = np.zeros(iterations) #create a variable showing the cost function\n",
    "        \n",
    "        for i in range(iterations):\n",
    "            J1 = CostFunctionMulti(x, y, theta) #do the cost function\n",
    "            theta = theta - (alpha*J1).T #then multiplied it by the step and change the value of theta and the regularized method\n",
    "        \n",
    "            J_history[i] = CostFunction(x, y, theta) #show the cost function \n",
    "        \n",
    "    else: #if theta has two or more variables (features)\n",
    "        J_history = np.zeros([iterations,len(theta)])\n",
    "    \n",
    "        for i in range(iterations):\n",
    "            J1 = CostFunctionMulti(x, y, theta)\n",
    "            theta = theta - (alpha*J1).T\n",
    "        \n",
    "            J_history[i] = CostFunctionMulti(x, y, theta)\n",
    "            \n",
    "    return (theta,J_history)\n",
    "\n",
    "\n",
    "#Example with only one feature\n",
    "x, y, theta = Example_one_feature()\n",
    "alpha = 0.1\n",
    "iterations = 10\n",
    "\n",
    "theta,J = GradientDescent_Reg(x, y, theta, alpha, iterations)\n",
    "#print(theta, J)\n",
    "\n",
    "plt.scatter(x,y)\n",
    "plt.plot(x,(theta[0]+theta[1]*x))\n",
    "\n",
    "\n",
    "\n",
    "\n",
    "#Example with multiple features\n",
    "x, y, theta = Example_multy_features()\n",
    "\n",
    "theta,J = GradientDescent_Reg(x, y, theta, alpha, iterations)\n",
    "#print(theta, J)\n",
    "\n",
    "\n",
    "J1 = CostFunctionMulti(x, y, theta) #do the cost function\n",
    "theta = theta - (alpha*J1).T #then \n",
    "\n",
    "J1\n",
    "\n",
    "theta"
   ]
  },
  {
   "cell_type": "markdown",
   "metadata": {},
   "source": [
    "# Features Normalized"
   ]
  },
  {
   "cell_type": "code",
   "execution_count": 10,
   "metadata": {},
   "outputs": [
    {
     "name": "stdout",
     "output_type": "stream",
     "text": [
      "[[-1.43201389  0.75883666  1.46059349]\n",
      " [-1.10281529 -0.30000519  0.73029674]\n",
      " [-1.43201389 -0.65295247 -0.36514837]\n",
      " [ 1.53077347 -1.00589976 -0.73029674]\n",
      " [-1.43201389 -0.65295247 -0.36514837]\n",
      " [ 0.54317768  0.75883666  1.46059349]\n",
      " [-0.4444181  -0.30000519 -0.36514837]\n",
      " [ 1.53077347  0.40588938  0.36514837]\n",
      " [ 1.20157487  1.46473122 -1.09544512]\n",
      " [ 0.87237628  1.46473122  1.82574186]\n",
      " [-0.7736167   1.11178394 -0.36514837]\n",
      " [ 0.87237628  0.75883666  0.        ]\n",
      " [ 0.87237628 -0.65295247 -0.73029674]\n",
      " [ 1.20157487  0.40588938 -0.73029674]\n",
      " [-1.10281529  1.11178394 -1.46059349]\n",
      " [-0.11521951 -0.65295247  1.09544512]\n",
      " [-0.4444181  -1.71179432  0.73029674]\n",
      " [-0.4444181  -1.35884704 -1.09544512]\n",
      " [ 0.21397909  0.75883666  1.09544512]\n",
      " [-0.11521951 -1.71179432 -1.46059349]]\n",
      "[[ 3.38917388]\n",
      " [-0.27570499]\n",
      " [-0.58707134]\n",
      " [ 0.90826101]] [[-4.545       0.73402646  1.20959097 -0.6064669 ]\n",
      " [-4.0905      0.6349003   1.09048991 -0.578013  ]\n",
      " [-3.68145     0.54816322  0.98452896 -0.54928308]\n",
      " [-3.313305    0.47230926  0.8901342  -0.52064649]\n",
      " [-2.9819745   0.40601442  0.80592999 -0.49239477]\n",
      " [-2.68377705  0.34811459  0.73071329 -0.46475456]\n",
      " [-2.41539935  0.29758617  0.66343135 -0.43789861]\n",
      " [-2.17385941  0.25352902  0.60316233 -0.41195506]\n",
      " [-1.95647347  0.21515158  0.54909846 -0.38701532]\n",
      " [-1.76082612  0.18175772  0.50053137 -0.3631407 ]]\n"
     ]
    }
   ],
   "source": [
    "import numpy as np\n",
    "import random\n",
    "\n",
    "def NormalizedFeatures (x):\n",
    "    #Normalized the Features in x by substarcting the mean and divided each one by the std\n",
    "    mean = np.mean(x,axis=0)\n",
    "    std = np.std(x,axis=0)\n",
    "    \n",
    "    x_norm = (x - mean) / std\n",
    "    print(x_norm)\n",
    "    \n",
    "    return x_norm\n",
    "\n",
    "\n",
    "\n",
    "\n",
    "#Example with x norm \n",
    "#Example with multiple features\n",
    "Example_multy_features()\n",
    "theta = np.array([[0.1], [0.2], [0.3], [0.4]])\n",
    "\n",
    "x = NormalizedFeatures(x)\n",
    "\n",
    "theta,J = GradientDescent(x, y, theta, alpha, iterations)\n",
    "print(theta, J)"
   ]
  },
  {
   "cell_type": "markdown",
   "metadata": {},
   "source": []
  },
  {
   "cell_type": "code",
   "execution_count": null,
   "metadata": {},
   "outputs": [],
   "source": []
  }
 ],
 "metadata": {
  "kernelspec": {
   "display_name": "Python 3 (ipykernel)",
   "language": "python",
   "name": "python3"
  },
  "language_info": {
   "codemirror_mode": {
    "name": "ipython",
    "version": 3
   },
   "file_extension": ".py",
   "mimetype": "text/x-python",
   "name": "python",
   "nbconvert_exporter": "python",
   "pygments_lexer": "ipython3",
   "version": "3.10.9"
  }
 },
 "nbformat": 4,
 "nbformat_minor": 4
}
