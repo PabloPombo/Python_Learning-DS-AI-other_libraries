{
 "cells": [
  {
   "cell_type": "markdown",
   "metadata": {},
   "source": [
    "# Logistic Regression"
   ]
  },
  {
   "cell_type": "code",
   "execution_count": 1,
   "metadata": {},
   "outputs": [],
   "source": [
    "#################################creating x \n",
    "def variables ():\n",
    "\n",
    "    x = np.zeros([20,2])\n",
    "    a = [(np.exp(1))*np.sin(x+1) for x in range(20)]\n",
    "    b = [(np.exp(0.5))*np.cos(x+1) for x in range(20)]\n",
    "    x[:,0]=a\n",
    "    x[:,1]=b\n",
    "\n",
    "    ###############################creating y\n",
    "    y = np.zeros([20,1])\n",
    "    a = np.array([np.sin(1+ x[:,0])])\n",
    "    for i in range(len(y)):\n",
    "        if a[:,i]> 0:\n",
    "            y[i]=1\n",
    "        else:\n",
    "            y[i]=0\n",
    "\n",
    "    theta = np.array([[0.25], [0.5], [-0.5]])\n",
    "    \n",
    "    return (x,y,theta)"
   ]
  },
  {
   "cell_type": "markdown",
   "metadata": {},
   "source": [
    "# Sigmoid"
   ]
  },
  {
   "cell_type": "code",
   "execution_count": 2,
   "metadata": {},
   "outputs": [
    {
     "data": {
      "image/png": "[encoded data removed]",
      "text/plain": [
       "<Figure size 432x288 with 1 Axes>"
      ]
     },
     "metadata": {
      "needs_background": "light"
     },
     "output_type": "display_data"
    }
   ],
   "source": [
    "import numpy as np\n",
    "import random\n",
    "from matplotlib import pyplot as plt\n",
    "\n",
    "\n",
    "def theta_cero(x):\n",
    "    m = len(x) #the number of values\n",
    "    one = np.ones([m,1]) \n",
    "    x = np.concatenate((one,x),axis=1) #puts a column of ones in x\n",
    "    return x\n",
    "    \n",
    "def sigmoid(x,theta):\n",
    "    x = theta_cero(x)\n",
    "    \n",
    "    z = x@theta #z => theta.T * X\n",
    "    g = 1 / (1+ np.exp(-z)) #the function on the sigmoid\n",
    "    return g\n",
    "\n",
    "x, y, theta = variables()\n",
    "sigmoid1 = sigmoid(x,theta)\n",
    "\n",
    "#the graph, if its 1 or cero \n",
    "for i in range(len(y)):\n",
    "    if y[i] == 1:\n",
    "         plt.scatter(x[i,0],x[i,1], marker='*', color='red')\n",
    "    else:\n",
    "        plt.scatter(x[i,0],x[i,1], marker='.', color='blue')\n",
    " "
   ]
  },
  {
   "cell_type": "markdown",
   "metadata": {},
   "source": [
    "# Predict"
   ]
  },
  {
   "cell_type": "code",
   "execution_count": 3,
   "metadata": {},
   "outputs": [
    {
     "data": {
      "text/plain": [
       "array([[1.],\n",
       "       [1.],\n",
       "       [1.],\n",
       "       [0.],\n",
       "       [0.],\n",
       "       [0.],\n",
       "       [1.],\n",
       "       [1.],\n",
       "       [1.],\n",
       "       [1.],\n",
       "       [0.],\n",
       "       [0.],\n",
       "       [1.],\n",
       "       [1.],\n",
       "       [1.],\n",
       "       [1.],\n",
       "       [0.],\n",
       "       [0.],\n",
       "       [0.],\n",
       "       [1.]])"
      ]
     },
     "execution_count": 3,
     "metadata": {},
     "output_type": "execute_result"
    }
   ],
   "source": [
    "def prediction (x, theta):    \n",
    "    p = sigmoid(x,theta)\n",
    "    \n",
    "    for i in range (len(x)):\n",
    "        if p[i] >= 0.5:\n",
    "            p[i] = 1;\n",
    "        else:\n",
    "            p[i] = 0;\n",
    "    \n",
    "    return p \n",
    "     \n",
    "x, y, theta = variables()\n",
    "prediction(x, theta)    "
   ]
  },
  {
   "cell_type": "markdown",
   "metadata": {},
   "source": [
    "# Cost Function "
   ]
  },
  {
   "cell_type": "markdown",
   "metadata": {},
   "source": [
    "1)  -log (h(x)) if y = 1\n",
    "\n",
    "2)  -log (1-h(x))if y = 0\n",
    "\n",
    "Cost(h(x),y) = -y * log(h(x)) - (1-y) * log(1-h(x))\n",
    "\n",
    "if y = 1 => Cost = 1)\n",
    "\n",
    "if y = 0 => Cost = 2)"
   ]
  },
  {
   "cell_type": "code",
   "execution_count": 4,
   "metadata": {},
   "outputs": [
    {
     "data": {
      "text/plain": [
       "array([[ 0.25],\n",
       "       [ 0.5 ],\n",
       "       [-0.5 ]])"
      ]
     },
     "execution_count": 4,
     "metadata": {},
     "output_type": "execute_result"
    },
    {
     "data": {
      "image/png": "[encoded data removed]",
      "text/plain": [
       "<Figure size 432x288 with 1 Axes>"
      ]
     },
     "metadata": {
      "needs_background": "light"
     },
     "output_type": "display_data"
    }
   ],
   "source": [
    "from matplotlib import pyplot as plt\n",
    "import numpy as np \n",
    "import random\n",
    "\n",
    "x, y, theta = variables()\n",
    "m = len(y)\n",
    "\n",
    "iterations = 35\n",
    "alpha = 1\n",
    "Lambda = 0.1\n",
    "\n",
    "def Cost_Function(x,y,theta,alpha,m):\n",
    "    #theta_cero(x) => is x with the extra column with ones \n",
    "    h = sigmoid (x,theta) #mandamos a la funcion sigmoid todo \n",
    "    J = (-alpha/m) * sum((y*np.log(h) + (1-y)*np.log(1-h))) # obtenermos la funcion de costo \n",
    "\n",
    "    grad = (1/m) * theta_cero(x).T @ (h-y)\n",
    "    \n",
    "    return (J, grad)\n",
    "\n",
    "\n",
    "def Cost_Function_Reg(x,y,theta,alpha,Lambda,m): #the cost function with the regularization \n",
    "    #theta_cero(x) => is x with the extra column with ones \n",
    "    h = sigmoid (x,theta) #mandamos a la funcion sigmoid todo \n",
    "    J = (-alpha/m) * sum((y*np.log(h) + (1-y)*np.log(1-h))) + (Lambda/(2*m))*sum(theta[1:]**2)  # obtenermos la funcion de costo \n",
    "    \n",
    "    #the first value of the grad its the same \n",
    "    grad = np.zeros([len(theta),1])\n",
    "    grad[0] = (1/m) * (theta_cero(x)[:,1]).T @ (h-y)\n",
    "    #the other values you need to be affected by lambda\n",
    "    grad[1:] = (1/m) * (theta_cero(x)[:,1:]).T @ (h-y) + (Lambda/m)*(theta[1:])    \n",
    "    \n",
    "    return (J, grad)\n",
    "\n",
    "\n",
    "#plot the pints of the dataset without reguralization \n",
    "for i in range(len(y)):\n",
    "    if y[i] == 1:\n",
    "         plt.scatter(x[i,0],x[i,1], marker='*', color='red')\n",
    "    else:\n",
    "        plt.scatter(x[i,0],x[i,1], marker='.', color='blue')\n",
    "\n",
    "#plot the desicion boundery \n",
    "plt.plot(x[:,0], theta[0] + x[:,0]*theta[1])\n",
    "#plt.plot(x[:,1], theta[0] + x[:,1]*theta[2])\n",
    "theta"
   ]
  },
  {
   "cell_type": "markdown",
   "metadata": {},
   "source": [
    "# Plotting "
   ]
  },
  {
   "cell_type": "code",
   "execution_count": 62,
   "metadata": {},
   "outputs": [
    {
     "data": {
      "text/plain": [
       "array([[-0.45368382],\n",
       "       [ 0.22764416],\n",
       "       [-0.07696324]])"
      ]
     },
     "execution_count": 62,
     "metadata": {},
     "output_type": "execute_result"
    },
    {
     "data": {
      "image/png": "[encoded data removed]",
      "text/plain": [
       "<Figure size 432x288 with 1 Axes>"
      ]
     },
     "metadata": {
      "needs_background": "light"
     },
     "output_type": "display_data"
    }
   ],
   "source": [
    "################Ploting withoun reg\n",
    "#variables\n",
    "x, y, theta = variables()\n",
    "m = len(y)\n",
    "iterations = 35\n",
    "alpha = 1\n",
    "\n",
    "iterations = 50\n",
    "\n",
    "for i in range(iterations):\n",
    "    #calling the function\n",
    "    J, grad = Cost_Function(x,y,theta,alpha,m)\n",
    "    theta = theta - grad #the value of theta after all iterations\n",
    "    \n",
    "\n",
    "#plot the pints of the dataset without reguralization \n",
    "for i in range(len(y)):\n",
    "    if y[i] == 1:\n",
    "         plt.scatter(x[i,0],x[i,1], marker='*', color='red')\n",
    "    else:\n",
    "        plt.scatter(x[i,0],x[i,1], marker='.', color='blue')\n",
    "\n",
    "#plot the desicion boundery \n",
    "plt.plot(x[:,0], -theta[0]/theta[1] + x[:,0]*(-theta[1]/theta[2]))\n",
    "#plt.plot(x[:,1], theta[0] + x[:,1]*theta[2])\n",
    "theta"
   ]
  },
  {
   "cell_type": "code",
   "execution_count": 6,
   "metadata": {},
   "outputs": [
    {
     "data": {
      "text/plain": [
       "array([[ 0.00212737],\n",
       "       [ 0.19985566],\n",
       "       [-0.08504945]])"
      ]
     },
     "execution_count": 6,
     "metadata": {},
     "output_type": "execute_result"
    },
    {
     "data": {
      "image/png": "[encoded data removed]",
      "text/plain": [
       "<Figure size 432x288 with 1 Axes>"
      ]
     },
     "metadata": {
      "needs_background": "light"
     },
     "output_type": "display_data"
    }
   ],
   "source": [
    "##########################Ploting with reg\n",
    "#variables\n",
    "x, y, theta = variables()\n",
    "m = len(y)\n",
    "iterations = 35\n",
    "alpha = 1\n",
    "Lambda = 0.1\n",
    "\n",
    "iterations = 50\n",
    "\n",
    "for i in range(iterations):\n",
    "    #calling the function\n",
    "    J, grad = Cost_Function_Reg(x,y,theta,alpha,Lambda,m) #the cost function with the regularization \n",
    "    theta = theta - grad #the value of theta after all iterations\n",
    "    \n",
    "\n",
    "#plot the pints of the dataset without reguralization \n",
    "for i in range(len(y)):\n",
    "    if y[i] == 1:\n",
    "         plt.scatter(x[i,0],x[i,1], marker='*', color='red')\n",
    "    else:\n",
    "        plt.scatter(x[i,0],x[i,1], marker='.', color='blue')\n",
    "\n",
    "#plot the desicion boundery \n",
    "plt.plot(x[:,0], theta[0] + x[:,0]*theta[1])\n",
    "#plt.plot(x[:,1], theta[0] + x[:,1]*theta[2])\n",
    "theta"
   ]
  },
  {
   "cell_type": "code",
   "execution_count": null,
   "metadata": {},
   "outputs": [],
   "source": []
  },
  {
   "cell_type": "code",
   "execution_count": null,
   "metadata": {},
   "outputs": [],
   "source": []
  },
  {
   "cell_type": "code",
   "execution_count": 7,
   "metadata": {},
   "outputs": [
    {
     "name": "stdout",
     "output_type": "stream",
     "text": [
      "[[ 0.22763688]\n",
      " [-0.07696557]] [-0.45361856]\n"
     ]
    }
   ],
   "source": [
    "w = theta[1:]\n",
    "b = theta[0]\n",
    "m = len(y)\n",
    "alpha = 1\n",
    "iterations = 35\n",
    "\n",
    "for i in range (iterations):\n",
    "\n",
    "    z = x@w + b \n",
    "    A = 1 / (1+ np.exp(-z))\n",
    "\n",
    "    dz = A-y\n",
    "    dw = 1/m*x.T@dz\n",
    "    db = 1/m * np.sum(dz)\n",
    "\n",
    "    w = w - alpha*dw\n",
    "    b = b - alpha*db\n",
    "\n",
    "print(w,b)"
   ]
  },
  {
   "cell_type": "code",
   "execution_count": null,
   "metadata": {},
   "outputs": [],
   "source": []
  },
  {
   "cell_type": "code",
   "execution_count": null,
   "metadata": {},
   "outputs": [],
   "source": []
  },
  {
   "cell_type": "code",
   "execution_count": null,
   "metadata": {},
   "outputs": [],
   "source": []
  },
  {
   "cell_type": "code",
   "execution_count": 63,
   "metadata": {},
   "outputs": [
    {
     "name": "stdout",
     "output_type": "stream",
     "text": [
      "[[-0.21720691]\n",
      " [-1.07534387]] [-0.14451726]\n"
     ]
    },
    {
     "data": {
      "text/plain": [
       "[<matplotlib.lines.Line2D at 0x1a5b04d88b0>]"
      ]
     },
     "execution_count": 63,
     "metadata": {},
     "output_type": "execute_result"
    },
    {
     "data": {
      "image/png": "[encoded data removed]",
      "text/plain": [
       "<Figure size 432x288 with 1 Axes>"
      ]
     },
     "metadata": {
      "needs_background": "light"
     },
     "output_type": "display_data"
    }
   ],
   "source": [
    "theta = np.array([[0.2], [0.7], [-0.9]])\n",
    "\n",
    "x = np.array([[1.5, 0.9, 2.1, 0.24, 0.45, 0.15],[-0.3, 0.05, 0.2, -0.87, -0.6, -0.43]])\n",
    "x = x.T \n",
    "y = np.array([0, 0, 0, 1, 1, 1])\n",
    "y = y.reshape(6,1)\n",
    "\n",
    "for i in range(len(y)):\n",
    "    if y[i] == 1:\n",
    "         plt.scatter(x[i,0],x[i,1], marker='*', color='red')\n",
    "    else:\n",
    "        plt.scatter(x[i,0],x[i,1], marker='.', color='blue')\n",
    "        \n",
    "        \n",
    "w = theta[1:]\n",
    "b = theta[0]\n",
    "m = len(y)\n",
    "alpha = 1\n",
    "iterations = 2\n",
    "\n",
    "for i in range (iterations):\n",
    "\n",
    "    z = x@w + b \n",
    "    A = 1 / (1+ np.exp(-z))\n",
    "\n",
    "    dz = A-y\n",
    "    dw = 1/m*x.T@dz\n",
    "    db = 1/m * np.sum(dz)\n",
    "\n",
    "    w = w - alpha*dw\n",
    "    b = b - alpha*db\n",
    "\n",
    "print(w,b)\n",
    "\n",
    "plt.plot(x[:,0], -b/w[1] + x[:,0]*(-w[0]/w[1]))"
   ]
  },
  {
   "cell_type": "code",
   "execution_count": null,
   "metadata": {},
   "outputs": [],
   "source": []
  },
  {
   "cell_type": "code",
   "execution_count": null,
   "metadata": {},
   "outputs": [],
   "source": []
  },
  {
   "cell_type": "code",
   "execution_count": null,
   "metadata": {},
   "outputs": [],
   "source": []
  },
  {
   "cell_type": "code",
   "execution_count": null,
   "metadata": {},
   "outputs": [],
   "source": []
  },
  {
   "cell_type": "code",
   "execution_count": null,
   "metadata": {},
   "outputs": [],
   "source": []
  },
  {
   "cell_type": "code",
   "execution_count": null,
   "metadata": {},
   "outputs": [],
   "source": []
  }
 ],
 "metadata": {
  "kernelspec": {
   "display_name": "Python 3",
   "language": "python",
   "name": "python3"
  },
  "language_info": {
   "codemirror_mode": {
    "name": "ipython",
    "version": 3
   },
   "file_extension": ".py",
   "mimetype": "text/x-python",
   "name": "python",
   "nbconvert_exporter": "python",
   "pygments_lexer": "ipython3",
   "version": "3.8.5"
  }
 },
 "nbformat": 4,
 "nbformat_minor": 4
}
