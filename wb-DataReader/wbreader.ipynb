{
 "cells": [
  {
   "cell_type": "code",
   "execution_count": 19,
   "metadata": {},
   "outputs": [],
   "source": [
    "import numpy\n",
    "import pandas\n",
    "import random"
   ]
  },
  {
   "cell_type": "code",
   "execution_count": 6,
   "metadata": {},
   "outputs": [],
   "source": [
    "a = numpy.random.random(5)"
   ]
  },
  {
   "cell_type": "code",
   "execution_count": 13,
   "metadata": {},
   "outputs": [
    {
     "data": {
      "text/plain": [
       "array([[1, 4, 3, 1, 2, 5],\n",
       "       [4, 2, 2, 4, 1, 3],\n",
       "       [1, 2, 5, 2, 1, 3],\n",
       "       [2, 1, 5, 2, 1, 4]])"
      ]
     },
     "execution_count": 13,
     "metadata": {},
     "output_type": "execute_result"
    }
   ],
   "source": [
    "numpy.random.randint(1,6,(4,6))"
   ]
  },
  {
   "cell_type": "code",
   "execution_count": 36,
   "metadata": {},
   "outputs": [
    {
     "data": {
      "text/plain": [
       "0    3\n",
       "1    4\n",
       "2    4\n",
       "3    8\n",
       "4    5\n",
       "5    3\n",
       "6    0\n",
       "7    9\n",
       "8    0\n",
       "9    0\n",
       "Name: lala, dtype: int32"
      ]
     },
     "execution_count": 36,
     "metadata": {},
     "output_type": "execute_result"
    }
   ],
   "source": [
    "pandas.Series(numpy.random.randint(10, size = 10, dtype='int'), name= \"lala\")"
   ]
  },
  {
   "cell_type": "code",
   "execution_count": 41,
   "metadata": {},
   "outputs": [],
   "source": [
    "b = numpy.random.randint (5, size = 5)"
   ]
  },
  {
   "cell_type": "code",
   "execution_count": 42,
   "metadata": {},
   "outputs": [
    {
     "data": {
      "text/plain": [
       "array([2, 1, 2, 1, 4])"
      ]
     },
     "execution_count": 42,
     "metadata": {},
     "output_type": "execute_result"
    }
   ],
   "source": [
    "b"
   ]
  },
  {
   "cell_type": "code",
   "execution_count": 40,
   "metadata": {},
   "outputs": [
    {
     "data": {
      "text/plain": [
       "1"
      ]
     },
     "execution_count": 40,
     "metadata": {},
     "output_type": "execute_result"
    }
   ],
   "source": []
  },
  {
   "cell_type": "code",
   "execution_count": 63,
   "metadata": {},
   "outputs": [],
   "source": [
    "import pandas\n",
    "from pandas_datareader import data as wb"
   ]
  },
  {
   "cell_type": "code",
   "execution_count": 65,
   "metadata": {},
   "outputs": [],
   "source": [
    "F = wb.DataReader('F', 'yahoo', start = '2018-9-1')"
   ]
  },
  {
   "cell_type": "code",
   "execution_count": 68,
   "metadata": {},
   "outputs": [
    {
     "data": {
      "text/plain": [
       "High         9.680000e+00\n",
       "Low          9.400000e+00\n",
       "Open         9.640000e+00\n",
       "Close        9.480000e+00\n",
       "Volume       7.642490e+07\n",
       "Adj Close    8.586881e+00\n",
       "Name: 2018-08-31 00:00:00, dtype: float64"
      ]
     },
     "execution_count": 68,
     "metadata": {},
     "output_type": "execute_result"
    }
   ],
   "source": [
    "import pandas_datareader.data as web\n",
    "\n",
    "from datetime import datetime\n",
    "\n",
    "start = datetime(2016, 9, 1)\n",
    "\n",
    "end = datetime(2018, 9, 1)\n",
    "\n",
    "f = web.DataReader('F', 'yahoo', start, end)\n",
    "\n",
    "f.loc['2018-08-31']"
   ]
  },
  {
   "cell_type": "code",
   "execution_count": 71,
   "metadata": {},
   "outputs": [
    {
     "data": {
      "text/html": [
       "<div>\n",
       "<style scoped>\n",
       "    .dataframe tbody tr th:only-of-type {\n",
       "        vertical-align: middle;\n",
       "    }\n",
       "\n",
       "    .dataframe tbody tr th {\n",
       "        vertical-align: top;\n",
       "    }\n",
       "\n",
       "    .dataframe thead th {\n",
       "        text-align: right;\n",
       "    }\n",
       "</style>\n",
       "<table border=\"1\" class=\"dataframe\">\n",
       "  <thead>\n",
       "    <tr style=\"text-align: right;\">\n",
       "      <th></th>\n",
       "      <th>High</th>\n",
       "      <th>Low</th>\n",
       "      <th>Open</th>\n",
       "      <th>Close</th>\n",
       "      <th>Volume</th>\n",
       "      <th>Adj Close</th>\n",
       "    </tr>\n",
       "    <tr>\n",
       "      <th>Date</th>\n",
       "      <th></th>\n",
       "      <th></th>\n",
       "      <th></th>\n",
       "      <th></th>\n",
       "      <th></th>\n",
       "      <th></th>\n",
       "    </tr>\n",
       "  </thead>\n",
       "  <tbody>\n",
       "    <tr>\n",
       "      <th>2016-09-01</th>\n",
       "      <td>12.72</td>\n",
       "      <td>12.35</td>\n",
       "      <td>12.66</td>\n",
       "      <td>12.44</td>\n",
       "      <td>40510400.0</td>\n",
       "      <td>10.009105</td>\n",
       "    </tr>\n",
       "    <tr>\n",
       "      <th>2016-09-02</th>\n",
       "      <td>12.57</td>\n",
       "      <td>12.46</td>\n",
       "      <td>12.53</td>\n",
       "      <td>12.50</td>\n",
       "      <td>21079800.0</td>\n",
       "      <td>10.057380</td>\n",
       "    </tr>\n",
       "    <tr>\n",
       "      <th>2016-09-06</th>\n",
       "      <td>12.67</td>\n",
       "      <td>12.43</td>\n",
       "      <td>12.49</td>\n",
       "      <td>12.67</td>\n",
       "      <td>36098900.0</td>\n",
       "      <td>10.194161</td>\n",
       "    </tr>\n",
       "    <tr>\n",
       "      <th>2016-09-07</th>\n",
       "      <td>12.75</td>\n",
       "      <td>12.62</td>\n",
       "      <td>12.62</td>\n",
       "      <td>12.70</td>\n",
       "      <td>22879100.0</td>\n",
       "      <td>10.218298</td>\n",
       "    </tr>\n",
       "    <tr>\n",
       "      <th>2016-09-08</th>\n",
       "      <td>12.75</td>\n",
       "      <td>12.50</td>\n",
       "      <td>12.50</td>\n",
       "      <td>12.73</td>\n",
       "      <td>34017900.0</td>\n",
       "      <td>10.242435</td>\n",
       "    </tr>\n",
       "    <tr>\n",
       "      <th>...</th>\n",
       "      <td>...</td>\n",
       "      <td>...</td>\n",
       "      <td>...</td>\n",
       "      <td>...</td>\n",
       "      <td>...</td>\n",
       "      <td>...</td>\n",
       "    </tr>\n",
       "    <tr>\n",
       "      <th>2018-08-27</th>\n",
       "      <td>10.04</td>\n",
       "      <td>9.73</td>\n",
       "      <td>9.75</td>\n",
       "      <td>9.99</td>\n",
       "      <td>49769300.0</td>\n",
       "      <td>9.048834</td>\n",
       "    </tr>\n",
       "    <tr>\n",
       "      <th>2018-08-28</th>\n",
       "      <td>10.09</td>\n",
       "      <td>9.95</td>\n",
       "      <td>10.08</td>\n",
       "      <td>10.01</td>\n",
       "      <td>33845500.0</td>\n",
       "      <td>9.066948</td>\n",
       "    </tr>\n",
       "    <tr>\n",
       "      <th>2018-08-29</th>\n",
       "      <td>10.02</td>\n",
       "      <td>9.90</td>\n",
       "      <td>10.01</td>\n",
       "      <td>9.97</td>\n",
       "      <td>37336400.0</td>\n",
       "      <td>9.030718</td>\n",
       "    </tr>\n",
       "    <tr>\n",
       "      <th>2018-08-30</th>\n",
       "      <td>9.91</td>\n",
       "      <td>9.67</td>\n",
       "      <td>9.87</td>\n",
       "      <td>9.70</td>\n",
       "      <td>48539300.0</td>\n",
       "      <td>8.786155</td>\n",
       "    </tr>\n",
       "    <tr>\n",
       "      <th>2018-08-31</th>\n",
       "      <td>9.68</td>\n",
       "      <td>9.40</td>\n",
       "      <td>9.64</td>\n",
       "      <td>9.48</td>\n",
       "      <td>76424900.0</td>\n",
       "      <td>8.586881</td>\n",
       "    </tr>\n",
       "  </tbody>\n",
       "</table>\n",
       "<p>504 rows × 6 columns</p>\n",
       "</div>"
      ],
      "text/plain": [
       "             High    Low   Open  Close      Volume  Adj Close\n",
       "Date                                                         \n",
       "2016-09-01  12.72  12.35  12.66  12.44  40510400.0  10.009105\n",
       "2016-09-02  12.57  12.46  12.53  12.50  21079800.0  10.057380\n",
       "2016-09-06  12.67  12.43  12.49  12.67  36098900.0  10.194161\n",
       "2016-09-07  12.75  12.62  12.62  12.70  22879100.0  10.218298\n",
       "2016-09-08  12.75  12.50  12.50  12.73  34017900.0  10.242435\n",
       "...           ...    ...    ...    ...         ...        ...\n",
       "2018-08-27  10.04   9.73   9.75   9.99  49769300.0   9.048834\n",
       "2018-08-28  10.09   9.95  10.08  10.01  33845500.0   9.066948\n",
       "2018-08-29  10.02   9.90  10.01   9.97  37336400.0   9.030718\n",
       "2018-08-30   9.91   9.67   9.87   9.70  48539300.0   8.786155\n",
       "2018-08-31   9.68   9.40   9.64   9.48  76424900.0   8.586881\n",
       "\n",
       "[504 rows x 6 columns]"
      ]
     },
     "execution_count": 71,
     "metadata": {},
     "output_type": "execute_result"
    }
   ],
   "source": []
  },
  {
   "cell_type": "code",
   "execution_count": null,
   "metadata": {},
   "outputs": [],
   "source": []
  }
 ],
 "metadata": {
  "kernelspec": {
   "display_name": "Python 3 (ipykernel)",
   "language": "python",
   "name": "python3"
  },
  "language_info": {
   "codemirror_mode": {
    "name": "ipython",
    "version": 3
   },
   "file_extension": ".py",
   "mimetype": "text/x-python",
   "name": "python",
   "nbconvert_exporter": "python",
   "pygments_lexer": "ipython3",
   "version": "3.10.9"
  }
 },
 "nbformat": 4,
 "nbformat_minor": 4
}
