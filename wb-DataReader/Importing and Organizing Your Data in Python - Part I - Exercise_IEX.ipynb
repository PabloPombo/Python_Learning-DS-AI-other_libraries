{
 "cells": [
  {
   "cell_type": "markdown",
   "metadata": {},
   "source": [
    "## Importing and Organizing Your Data in Python - Part I"
   ]
  },
  {
   "cell_type": "markdown",
   "metadata": {},
   "source": [
    "*Suggested Answers follow (usually there are multiple ways to solve a problem in Python).*"
   ]
  },
  {
   "cell_type": "markdown",
   "metadata": {},
   "source": [
    "a. Create a series object of 10 randomly generated integer values."
   ]
  },
  {
   "cell_type": "code",
   "execution_count": 7,
   "metadata": {},
   "outputs": [],
   "source": [
    "import pandas as pd\n",
    "import numpy as np\n",
    "from pandas_datareader import data as wb"
   ]
  },
  {
   "cell_type": "code",
   "execution_count": 2,
   "metadata": {},
   "outputs": [],
   "source": [
    "ser = pd.Series(np.random.randint(10, size=10, dtype='int'), name = \"ma\")"
   ]
  },
  {
   "cell_type": "markdown",
   "metadata": {},
   "source": [
    "b. Extract data from IEX for Ford from the 1st of January 2015. The ticker you need is ‘F’. "
   ]
  },
  {
   "cell_type": "code",
   "execution_count": 3,
   "metadata": {},
   "outputs": [
    {
     "data": {
      "text/plain": [
       "0    1\n",
       "1    3\n",
       "2    7\n",
       "3    9\n",
       "4    5\n",
       "5    0\n",
       "6    5\n",
       "7    7\n",
       "8    2\n",
       "9    5\n",
       "Name: ma, dtype: int32"
      ]
     },
     "execution_count": 3,
     "metadata": {},
     "output_type": "execute_result"
    }
   ],
   "source": [
    "ser"
   ]
  },
  {
   "cell_type": "code",
   "execution_count": 14,
   "metadata": {},
   "outputs": [],
   "source": [
    "F = wb.DataReader('F', data_source='yahoo', start='1995-1-1')"
   ]
  },
  {
   "cell_type": "code",
   "execution_count": 15,
   "metadata": {},
   "outputs": [
    {
     "data": {
      "text/html": [
       "<div>\n",
       "<style scoped>\n",
       "    .dataframe tbody tr th:only-of-type {\n",
       "        vertical-align: middle;\n",
       "    }\n",
       "\n",
       "    .dataframe tbody tr th {\n",
       "        vertical-align: top;\n",
       "    }\n",
       "\n",
       "    .dataframe thead th {\n",
       "        text-align: right;\n",
       "    }\n",
       "</style>\n",
       "<table border=\"1\" class=\"dataframe\">\n",
       "  <thead>\n",
       "    <tr style=\"text-align: right;\">\n",
       "      <th></th>\n",
       "      <th>High</th>\n",
       "      <th>Low</th>\n",
       "      <th>Open</th>\n",
       "      <th>Close</th>\n",
       "      <th>Volume</th>\n",
       "      <th>Adj Close</th>\n",
       "    </tr>\n",
       "    <tr>\n",
       "      <th>Date</th>\n",
       "      <th></th>\n",
       "      <th></th>\n",
       "      <th></th>\n",
       "      <th></th>\n",
       "      <th></th>\n",
       "      <th></th>\n",
       "    </tr>\n",
       "  </thead>\n",
       "  <tbody>\n",
       "    <tr>\n",
       "      <th>1995-01-03</th>\n",
       "      <td>10.264290</td>\n",
       "      <td>9.762480</td>\n",
       "      <td>10.218671</td>\n",
       "      <td>10.173051</td>\n",
       "      <td>5664298.0</td>\n",
       "      <td>4.380183</td>\n",
       "    </tr>\n",
       "    <tr>\n",
       "      <th>1995-01-04</th>\n",
       "      <td>10.446766</td>\n",
       "      <td>10.218671</td>\n",
       "      <td>10.218671</td>\n",
       "      <td>10.446766</td>\n",
       "      <td>7163124.0</td>\n",
       "      <td>4.498034</td>\n",
       "    </tr>\n",
       "    <tr>\n",
       "      <th>1995-01-05</th>\n",
       "      <td>10.583623</td>\n",
       "      <td>10.081813</td>\n",
       "      <td>10.538004</td>\n",
       "      <td>10.355528</td>\n",
       "      <td>9270247.0</td>\n",
       "      <td>4.458752</td>\n",
       "    </tr>\n",
       "    <tr>\n",
       "      <th>1995-01-06</th>\n",
       "      <td>10.538004</td>\n",
       "      <td>10.309909</td>\n",
       "      <td>10.401147</td>\n",
       "      <td>10.355528</td>\n",
       "      <td>4497845.0</td>\n",
       "      <td>4.458752</td>\n",
       "    </tr>\n",
       "    <tr>\n",
       "      <th>1995-01-09</th>\n",
       "      <td>10.583623</td>\n",
       "      <td>10.355528</td>\n",
       "      <td>10.401147</td>\n",
       "      <td>10.538004</td>\n",
       "      <td>6810201.0</td>\n",
       "      <td>4.537320</td>\n",
       "    </tr>\n",
       "    <tr>\n",
       "      <th>...</th>\n",
       "      <td>...</td>\n",
       "      <td>...</td>\n",
       "      <td>...</td>\n",
       "      <td>...</td>\n",
       "      <td>...</td>\n",
       "      <td>...</td>\n",
       "    </tr>\n",
       "    <tr>\n",
       "      <th>2021-03-17</th>\n",
       "      <td>12.700000</td>\n",
       "      <td>12.220000</td>\n",
       "      <td>12.340000</td>\n",
       "      <td>12.690000</td>\n",
       "      <td>108688100.0</td>\n",
       "      <td>12.690000</td>\n",
       "    </tr>\n",
       "    <tr>\n",
       "      <th>2021-03-18</th>\n",
       "      <td>13.010000</td>\n",
       "      <td>12.440000</td>\n",
       "      <td>12.700000</td>\n",
       "      <td>12.490000</td>\n",
       "      <td>76619600.0</td>\n",
       "      <td>12.490000</td>\n",
       "    </tr>\n",
       "    <tr>\n",
       "      <th>2021-03-19</th>\n",
       "      <td>12.950000</td>\n",
       "      <td>12.550000</td>\n",
       "      <td>12.850000</td>\n",
       "      <td>12.830000</td>\n",
       "      <td>89785500.0</td>\n",
       "      <td>12.830000</td>\n",
       "    </tr>\n",
       "    <tr>\n",
       "      <th>2021-03-22</th>\n",
       "      <td>12.930000</td>\n",
       "      <td>12.510000</td>\n",
       "      <td>12.850000</td>\n",
       "      <td>12.850000</td>\n",
       "      <td>81362100.0</td>\n",
       "      <td>12.850000</td>\n",
       "    </tr>\n",
       "    <tr>\n",
       "      <th>2021-03-23</th>\n",
       "      <td>12.680000</td>\n",
       "      <td>12.120000</td>\n",
       "      <td>12.570000</td>\n",
       "      <td>12.210000</td>\n",
       "      <td>72734600.0</td>\n",
       "      <td>12.210000</td>\n",
       "    </tr>\n",
       "  </tbody>\n",
       "</table>\n",
       "<p>6602 rows × 6 columns</p>\n",
       "</div>"
      ],
      "text/plain": [
       "                 High        Low       Open      Close       Volume  Adj Close\n",
       "Date                                                                          \n",
       "1995-01-03  10.264290   9.762480  10.218671  10.173051    5664298.0   4.380183\n",
       "1995-01-04  10.446766  10.218671  10.218671  10.446766    7163124.0   4.498034\n",
       "1995-01-05  10.583623  10.081813  10.538004  10.355528    9270247.0   4.458752\n",
       "1995-01-06  10.538004  10.309909  10.401147  10.355528    4497845.0   4.458752\n",
       "1995-01-09  10.583623  10.355528  10.401147  10.538004    6810201.0   4.537320\n",
       "...               ...        ...        ...        ...          ...        ...\n",
       "2021-03-17  12.700000  12.220000  12.340000  12.690000  108688100.0  12.690000\n",
       "2021-03-18  13.010000  12.440000  12.700000  12.490000   76619600.0  12.490000\n",
       "2021-03-19  12.950000  12.550000  12.850000  12.830000   89785500.0  12.830000\n",
       "2021-03-22  12.930000  12.510000  12.850000  12.850000   81362100.0  12.850000\n",
       "2021-03-23  12.680000  12.120000  12.570000  12.210000   72734600.0  12.210000\n",
       "\n",
       "[6602 rows x 6 columns]"
      ]
     },
     "execution_count": 15,
     "metadata": {},
     "output_type": "execute_result"
    }
   ],
   "source": [
    "F"
   ]
  },
  {
   "cell_type": "code",
   "execution_count": null,
   "metadata": {},
   "outputs": [],
   "source": []
  },
  {
   "cell_type": "code",
   "execution_count": null,
   "metadata": {},
   "outputs": [],
   "source": []
  },
  {
   "cell_type": "code",
   "execution_count": null,
   "metadata": {},
   "outputs": [],
   "source": []
  }
 ],
 "metadata": {
  "kernelspec": {
   "display_name": "Python 3 (ipykernel)",
   "language": "python",
   "name": "python3"
  },
  "language_info": {
   "codemirror_mode": {
    "name": "ipython",
    "version": 3
   },
   "file_extension": ".py",
   "mimetype": "text/x-python",
   "name": "python",
   "nbconvert_exporter": "python",
   "pygments_lexer": "ipython3",
   "version": "3.10.9"
  }
 },
 "nbformat": 4,
 "nbformat_minor": 2
}
