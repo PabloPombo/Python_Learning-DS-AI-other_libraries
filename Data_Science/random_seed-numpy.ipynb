{
 "cells": [
  {
   "cell_type": "code",
   "execution_count": 2,
   "metadata": {},
   "outputs": [],
   "source": [
    "import numpy as np"
   ]
  },
  {
   "cell_type": "code",
   "execution_count": 3,
   "metadata": {},
   "outputs": [],
   "source": [
    "np.random.seed(1)\n",
    "A_prev = np.random.randn(2, 5, 7, 4)\n",
    "W = np.random.randn(3, 3, 4, 8)\n",
    "b = np.random.randn(1, 1, 1, 8)\n",
    "hparameters = {\"pad\" : 1,\n",
    "               \"stride\": 2}"
   ]
  },
  {
   "cell_type": "code",
   "execution_count": 23,
   "metadata": {},
   "outputs": [],
   "source": [
    "(m, n_H_prev, n_W_prev, n_C_prev) = A_prev.shape\n",
    "(f, f, n_C_prev, n_C) = W.shape\n",
    "stride = hparameters[\"stride\"]\n",
    "pad = hparameters[\"pad\"]\n",
    "n_H = int((n_H_prev - f + (2*pad))/stride + 1)\n",
    "n_W = int((n_W_prev - f + (2*pad))/stride + 1)\n",
    "Z = np.zeros([m, n_H, n_W, n_C])"
   ]
  },
  {
   "cell_type": "code",
   "execution_count": 39,
   "metadata": {},
   "outputs": [
    {
     "data": {
      "text/plain": [
       "(2, 7, 9, 4)"
      ]
     },
     "execution_count": 39,
     "metadata": {},
     "output_type": "execute_result"
    }
   ],
   "source": [
    "A_prev_pad = np.pad(A_prev, ((0,0), (pad,pad), (pad,pad), (0,0)), mode='constant', constant_values = (0,0))\n",
    "A_prev_pad.shape"
   ]
  },
  {
   "cell_type": "code",
   "execution_count": 109,
   "metadata": {},
   "outputs": [
    {
     "data": {
      "text/plain": [
       "array([[[ -2.65112363,  -0.37849177,  -1.97054929,  -1.96235299,\n",
       "          -1.72259872,   0.4676693 ,  -6.43434016,   1.10764994],\n",
       "        [  4.67692928,   4.29865415,  -1.3608031 ,   0.80532859,\n",
       "          -2.88480108,   8.95280034,   5.32627807,  -1.82635258],\n",
       "        [ -2.05881174,   3.40859795,   0.3502282 ,   0.68303626,\n",
       "          -1.88328065,  -1.87480174,   5.8008721 ,   0.0700918 ],\n",
       "        [ -3.50141791,   2.704286  ,   0.28341346,   4.15637411,\n",
       "          -0.46575834,  -0.43668824,  -5.56866106,   1.72288033]],\n",
       "\n",
       "       [[ -2.32126108,   0.91040602,   2.31852532,   0.98842271,\n",
       "           3.31716611,   4.05638832,  -2.48135123,   0.95872443],\n",
       "        [  6.03978907,  -6.96477888,  -1.20799344,   2.68913374,\n",
       "          -4.35744033,  10.59355329,   3.20856901,  13.98735978],\n",
       "        [ -3.01280755,  -2.90226517,  -8.34171936,  -5.26220853,\n",
       "           5.6630696 ,   1.08704033,   2.20430705, -10.73218294],\n",
       "        [ -6.24198266,  -0.53158832,  -3.29654954,  -1.81865997,\n",
       "           0.59196322,   2.51134745,  -4.24924673,   5.21936641]],\n",
       "\n",
       "       [[ -2.22187412,  -0.95259173,  -5.99441273,   0.79147932,\n",
       "           1.16919278,  -0.17321161,  -3.26346299,  -3.62407578],\n",
       "        [ -2.17796037,   8.07171329,  -0.5772704 ,   3.36286738,\n",
       "           4.48113645,  -2.89198428,  10.99288867,   3.03171932],\n",
       "        [-12.49991261,   5.26845833,  -1.67648614,  -8.65695762,\n",
       "         -10.68157258,   6.71492428,   2.83839971,   4.47259772],\n",
       "        [  0.11421092,  -1.90872424,  -3.28117601,   0.89922467,\n",
       "           0.83985348,  -0.25127044,  -0.94409718,   5.17244412]]])"
      ]
     },
     "execution_count": 109,
     "metadata": {},
     "output_type": "execute_result"
    }
   ],
   "source": [
    "for i in range(m):               # loop over the batch of training examples\n",
    "        a_prev_pad = A_prev_pad[i,:,:,:]               # Select ith training example's padded activation\n",
    "        for h in range(n_H):           # loop over vertical axis of the output volume\n",
    "            # Find the vertical start and end of the current \"slice\" (≈2 lines)\n",
    "            vert_start = h * stride\n",
    "            vert_end = vert_start+f\n",
    "            \n",
    "            for w in range(n_W):       # loop over horizontal axis of the output volume\n",
    "                # Find the horizontal start and end of the current \"slice\" (≈2 lines)\n",
    "                horiz_start = w * stride \n",
    "                horiz_end = horiz_start+f\n",
    "                \n",
    "                for c in range(n_C):   # loop over channels (= #filters) of the output volume\n",
    "                                        \n",
    "                    # Use the corners to define the (3D) slice of a_prev_pad (See Hint above the cell). (≈1 line)\n",
    "                    a_slice_prev = a_prev_pad[vert_start:vert_end, horiz_start:horiz_end, :]\n",
    "                    \n",
    "                    # Convolve the (3D) slice with the correct filter W and bias b, to get back one output neuron. (≈3 line)\n",
    "                    weights = W[:, :, :, c]\n",
    "                    biases = b[:, :, :, c]\n",
    "                    Z[i, h, w, c] = float(np.sum(a_slice_prev * weights) + float(biases))\n",
    "Z[0]"
   ]
  },
  {
   "cell_type": "code",
   "execution_count": 111,
   "metadata": {},
   "outputs": [],
   "source": [
    "np.random.seed(1)\n",
    "A_prev = np.random.randn(2, 5, 5, 3)\n",
    "hparameters = {\"stride\" : 1, \"f\": 3}\n",
    "\n",
    "(m, n_H_prev, n_W_prev, n_C_prev) = A_prev.shape\n",
    "    \n",
    "    # Retrieve hyperparameters from \"hparameters\"\n",
    "f = hparameters[\"f\"]\n",
    "stride = hparameters[\"stride\"]\n",
    "    \n",
    "    # Define the dimensions of the output\n",
    "n_H = int(1 + (n_H_prev - f) / stride)\n",
    "n_W = int(1 + (n_W_prev - f) / stride)\n",
    "n_C = n_C_prev\n",
    "    \n",
    "    # Initialize output matrix A\n",
    "A = np.zeros((m, n_H, n_W, n_C))"
   ]
  },
  {
   "cell_type": "code",
   "execution_count": 117,
   "metadata": {},
   "outputs": [
    {
     "data": {
      "text/plain": [
       "array([[[[1.74481176, 1.74481176, 1.74481176],\n",
       "         [1.74481176, 1.74481176, 1.74481176],\n",
       "         [1.74481176, 1.74481176, 1.74481176]],\n",
       "\n",
       "        [[2.10025514, 2.10025514, 2.10025514],\n",
       "         [1.65980218, 1.65980218, 1.65980218],\n",
       "         [1.6924546 , 1.6924546 , 1.6924546 ]],\n",
       "\n",
       "        [[2.18557541, 2.18557541, 2.18557541],\n",
       "         [2.18557541, 2.18557541, 2.18557541],\n",
       "         [2.18557541, 2.18557541, 2.18557541]]],\n",
       "\n",
       "\n",
       "       [[[1.19891788, 1.19891788, 1.19891788],\n",
       "         [1.2245077 , 1.2245077 , 1.2245077 ],\n",
       "         [1.2245077 , 1.2245077 , 1.2245077 ]],\n",
       "\n",
       "        [[1.96710175, 1.96710175, 1.96710175],\n",
       "         [1.96710175, 1.96710175, 1.96710175],\n",
       "         [1.62765075, 1.62765075, 1.62765075]],\n",
       "\n",
       "        [[1.96710175, 1.96710175, 1.96710175],\n",
       "         [1.96710175, 1.96710175, 1.96710175],\n",
       "         [1.62765075, 1.62765075, 1.62765075]]]])"
      ]
     },
     "execution_count": 117,
     "metadata": {},
     "output_type": "execute_result"
    }
   ],
   "source": [
    "for i in range(m):                         # loop over the training examples\n",
    "    for h in range(n_H):                     # loop on the vertical axis of the output volume\n",
    "            # Find the vertical start and end of the current \"slice\" (≈2 lines)\n",
    "        vert_start = h * stride\n",
    "        vert_end = vert_start+f\n",
    "            \n",
    "        for w in range(n_W):                 # loop on the horizontal axis of the output volume\n",
    "                # Find the vertical start and end of the current \"slice\" (≈2 lines)\n",
    "            horiz_start = w * stride \n",
    "            horiz_end = horiz_start+f\n",
    "                \n",
    "            for c in range (n_C):            # loop over the channels of the output volume\n",
    "                    \n",
    "                    # Use the corners to define the current slice on the ith training example of A_prev, channel c. (≈1 line)\n",
    "                a_prev_slice = A_prev[i, vert_start:vert_end, horiz_start:horiz_end, :]\n",
    "                    \n",
    "                    # Compute the pooling operation on the slice. \n",
    "                    # Use an if statement to differentiate the modes. \n",
    "                    # Use np.max and np.mean.\n",
    "                A[i, h, w, c] = np.max(a_prev_slice)\n",
    "                \n",
    "A"
   ]
  },
  {
   "cell_type": "code",
   "execution_count": null,
   "metadata": {},
   "outputs": [],
   "source": []
  },
  {
   "cell_type": "code",
   "execution_count": null,
   "metadata": {},
   "outputs": [],
   "source": []
  }
 ],
 "metadata": {
  "kernelspec": {
   "display_name": "Python 3 (ipykernel)",
   "language": "python",
   "name": "python3"
  },
  "language_info": {
   "codemirror_mode": {
    "name": "ipython",
    "version": 3
   },
   "file_extension": ".py",
   "mimetype": "text/x-python",
   "name": "python",
   "nbconvert_exporter": "python",
   "pygments_lexer": "ipython3",
   "version": "3.10.9"
  }
 },
 "nbformat": 4,
 "nbformat_minor": 4
}
