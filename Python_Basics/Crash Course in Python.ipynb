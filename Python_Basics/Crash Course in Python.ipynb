{
 "cells": [
  {
   "cell_type": "markdown",
   "metadata": {},
   "source": [
    "# Crash Couse in Phyton "
   ]
  },
  {
   "cell_type": "markdown",
   "metadata": {},
   "source": []
  },
  {
   "cell_type": "markdown",
   "metadata": {},
   "source": [
    "# Functions"
   ]
  },
  {
   "cell_type": "code",
   "execution_count": 11,
   "metadata": {},
   "outputs": [],
   "source": [
    "def double(x):\n",
    "    \"\"\"\"\n",
    "    Poner Consas en la función\n",
    "    \"\"\"\n",
    "    return x*2\n",
    "\n",
    "def apply_to_one (f):\n",
    "    \"\"\"\"\n",
    "    Poner Consas en la función\n",
    "    \"\"\"\n",
    "    return f(1)\n",
    "\n",
    "#Short anonymus functions\n",
    "y = apply_to_one(lambda x: x + 4)"
   ]
  },
  {
   "cell_type": "markdown",
   "metadata": {},
   "source": [
    "# Strings"
   ]
  },
  {
   "cell_type": "code",
   "execution_count": 34,
   "metadata": {},
   "outputs": [
    {
     "name": "stdout",
     "output_type": "stream",
     "text": [
      "5\n",
      "Pablo Pombo Pablo Pombo Pablo Pombo Pablo \n",
      "Pombo\n",
      "Cruz\n"
     ]
    }
   ],
   "source": [
    "multiple_string = \"\"\"Pablo \n",
    "Pombo\n",
    "Cruz\"\"\"\n",
    "\n",
    "first_name = \"Pablo\"\n",
    "last_name = \"Pombo\"\n",
    "\n",
    "full_name1 = first_name + \" \" + last_name\n",
    "full_name2 = \"{0} {1}\".format(first_name, last_name)\n",
    "full_name3 = f\"{first_name} {last_name}\"\n",
    "\n",
    "x = len(first_name)\n",
    "print (x)\n",
    "\n",
    "print (full_name1, full_name2, full_name3, multiple_string)"
   ]
  },
  {
   "cell_type": "markdown",
   "metadata": {},
   "source": [
    "# LISTS"
   ]
  },
  {
   "cell_type": "code",
   "execution_count": 67,
   "metadata": {},
   "outputs": [
    {
     "name": "stdout",
     "output_type": "stream",
     "text": [
      "[1, 2, 3, 4, 5, 6, 7, 8, 9, 10, 11, 12, 13, True, False, 'Pablo']\n"
     ]
    }
   ],
   "source": [
    "x = [1, 2, 3, 4, 5, 6, 7, 8, 9]\n",
    "\n",
    "first_three = x[:3]  #[1, 2, 3] \n",
    "three_to_end = x[3:] #[4, 5, 6, 7, 8, 9]\n",
    "one_to_four = x[1:5] #[2, 3, 4, 5]\n",
    "last_three = x[-3:]  #[7, 8, 9]\n",
    "whithout_first_and_last = x[1:-1] #[2, 3, 4, 5, 6, 7, 8]\n",
    "copy_0f_x = x[:]     #[1, 2, 3, 4, 5, 6, 7, 8, 9]\n",
    "\n",
    "every_third = x[::3] #[1, 3, 4]\n",
    "\n",
    "1 in x  #True\n",
    "0 in x  #False\n",
    "\n",
    "x.extend([10, 11, 12])\n",
    "x.append(13)\n",
    "\n",
    "y = x + [True, False, 'Pablo']\n",
    "\n",
    "print (y)"
   ]
  },
  {
   "cell_type": "markdown",
   "metadata": {},
   "source": [
    " Sorting"
   ]
  },
  {
   "cell_type": "code",
   "execution_count": 147,
   "metadata": {},
   "outputs": [
    {
     "data": {
      "text/plain": [
       "[4, 3, 2, 1]"
      ]
     },
     "execution_count": 147,
     "metadata": {},
     "output_type": "execute_result"
    }
   ],
   "source": [
    "x = [2, 3, 1, 4]\n",
    "y = sorted(x) #a new list with all x alements sorted\n",
    "\n",
    "x.sort() #x sorted\n",
    "\n",
    "z = sorted(x,reverse=True)\n"
   ]
  },
  {
   "cell_type": "markdown",
   "metadata": {},
   "source": [
    "# Tuples"
   ]
  },
  {
   "cell_type": "code",
   "execution_count": 73,
   "metadata": {},
   "outputs": [],
   "source": [
    "my_tuple = (1,2,3)\n",
    "my_other_tuple = 1, 2, 3\n",
    "other_one = \"hi\", \"mom\", 1, True\n",
    "\n",
    "x, y, z = 5, 6, 7"
   ]
  },
  {
   "cell_type": "markdown",
   "metadata": {},
   "source": [
    "# Directionaries"
   ]
  },
  {
   "cell_type": "code",
   "execution_count": 105,
   "metadata": {},
   "outputs": [
    {
     "data": {
      "text/plain": [
       "8"
      ]
     },
     "execution_count": 105,
     "metadata": {},
     "output_type": "execute_result"
    }
   ],
   "source": [
    "grades = {\"Joel\": [8,9,10,11]}\n",
    "\n",
    "grades[\"Tim\"] = 10\n",
    "grades[\"Kate\"] = 7\n",
    "\n",
    "grades.get(\"Joel\",0) \n",
    "\n",
    "x = grades.keys() #the names\n",
    "y = grades.values() #the values\n",
    "z = grades.items() #all items in the directionarie\n",
    "\n",
    "\"Joel\" in grades  #True\n",
    "\"Jessica\" in grades #False\n",
    "\n",
    "grades[\"Joel\"][0] #acces to the specific number you want \n"
   ]
  },
  {
   "cell_type": "markdown",
   "metadata": {},
   "source": [
    "# IF / FOR"
   ]
  },
  {
   "cell_type": "code",
   "execution_count": 132,
   "metadata": {},
   "outputs": [
    {
     "name": "stdout",
     "output_type": "stream",
     "text": [
      "0\n",
      "1\n",
      "2\n",
      "3\n",
      "4\n",
      "5\n",
      "6\n",
      "7\n",
      "8\n",
      "9\n"
     ]
    }
   ],
   "source": [
    "def llega(x,y):\n",
    "\n",
    "    if x > y:\n",
    "        y + 2\n",
    "    elif x < y:\n",
    "        x + 1\n",
    "    else: \n",
    "        x + y\n",
    "        \n",
    "    return x, y\n",
    "\n",
    "for x in range(10):\n",
    "    print (x)\n",
    "    \n"
   ]
  },
  {
   "cell_type": "code",
   "execution_count": null,
   "metadata": {},
   "outputs": [],
   "source": []
  }
 ],
 "metadata": {
  "kernelspec": {
   "display_name": "Python 3 (ipykernel)",
   "language": "python",
   "name": "python3"
  },
  "language_info": {
   "codemirror_mode": {
    "name": "ipython",
    "version": 3
   },
   "file_extension": ".py",
   "mimetype": "text/x-python",
   "name": "python",
   "nbconvert_exporter": "python",
   "pygments_lexer": "ipython3",
   "version": "3.10.9"
  }
 },
 "nbformat": 4,
 "nbformat_minor": 4
}
